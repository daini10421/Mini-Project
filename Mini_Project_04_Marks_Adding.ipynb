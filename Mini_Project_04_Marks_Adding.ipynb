{
  "nbformat": 4,
  "nbformat_minor": 0,
  "metadata": {
    "colab": {
      "provenance": [],
      "authorship_tag": "ABX9TyOVHB0csrUGJ1VCp7Tm6GLY",
      "include_colab_link": true
    },
    "kernelspec": {
      "name": "python3",
      "display_name": "Python 3"
    },
    "language_info": {
      "name": "python"
    }
  },
  "cells": [
    {
      "cell_type": "markdown",
      "metadata": {
        "id": "view-in-github",
        "colab_type": "text"
      },
      "source": [
        "<a href=\"https://colab.research.google.com/github/daini10421/Mini-Project/blob/main/Mini_Project_04_Marks_Adding.ipynb\" target=\"_parent\"><img src=\"https://colab.research.google.com/assets/colab-badge.svg\" alt=\"Open In Colab\"/></a>"
      ]
    },
    {
      "cell_type": "markdown",
      "source": [
        "# **Mini Project-04: Marks Adding**"
      ],
      "metadata": {
        "id": "rQxOqaRt1fOF"
      }
    },
    {
      "cell_type": "code",
      "execution_count": 24,
      "metadata": {
        "colab": {
          "base_uri": "https://localhost:8080/"
        },
        "id": "8ZUUcm_3vq7f",
        "outputId": "5758abd9-aaec-409e-fecc-7cfe3bad3834"
      },
      "outputs": [
        {
          "output_type": "stream",
          "name": "stdout",
          "text": [
            "Output file created successfully.\n"
          ]
        }
      ],
      "source": [
        "\n",
        "\n",
        "\n",
        "import pandas as pd\n",
        "import requests\n",
        "from io import StringIO\n",
        "\n",
        "# Replace the GitHub raw CSV file URL with the actual link to your CSV file\n",
        "github_csv_url = 'https://raw.githubusercontent.com/psrana/Mini-Project-Marks-Adding/main/Mini%20Project%20-%20Marks%20Adding.csv'\n",
        "\n",
        "# Retrieve the CSV file contents from the GitHub URL\n",
        "response = requests.get(github_csv_url)\n",
        "content = response.text\n",
        "\n",
        "# Read the CSV data into a pandas DataFrame\n",
        "df = pd.read_csv(StringIO(content))\n",
        "\n",
        "\n",
        "\n",
        "\n",
        "# Group the data by roll number and calculate the sum of marks\n",
        "grouped_df = df.groupby('Roll Num')['Marks'].sum().reset_index()\n",
        "\n",
        "# Create the output CSV file\n",
        "output_file = 'https://raw.githubusercontent.com/psrana/Mini-Project-Marks-Adding/main/Mini%20Project%20-%20Marks%20Adding.csv'  # Replace with the desired path for your output file\n",
        "grouped_df.to_csv(output_file, index=False)\n",
        "\n",
        "print(\"Output file created successfully.\")\n"
      ]
    }
  ]
}